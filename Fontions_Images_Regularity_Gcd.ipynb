{
  "nbformat": 4,
  "nbformat_minor": 0,
  "metadata": {
    "colab": {
      "provenance": [],
      "authorship_tag": "ABX9TyNNz8WusKqKNxBdq9DxTcPc",
      "include_colab_link": true
    },
    "kernelspec": {
      "name": "python3",
      "display_name": "Python 3"
    },
    "language_info": {
      "name": "python"
    }
  },
  "cells": [
    {
      "cell_type": "markdown",
      "metadata": {
        "id": "view-in-github",
        "colab_type": "text"
      },
      "source": [
        "<a href=\"https://colab.research.google.com/github/Mamadou2025/Pseudo-Dual-Rickart-Code-Tester/blob/main/Fontions_Images_Regularity_Gcd.ipynb\" target=\"_parent\"><img src=\"https://colab.research.google.com/assets/colab-badge.svg\" alt=\"Open In Colab\"/></a>"
      ]
    },
    {
      "cell_type": "code",
      "execution_count": null,
      "metadata": {
        "colab": {
          "base_uri": "https://localhost:8080/"
        },
        "id": "tRtqvjpn7qul",
        "outputId": "0f863953-f1e7-4001-9d6d-edbdae01d104"
      },
      "outputs": [
        {
          "output_type": "stream",
          "name": "stdout",
          "text": [
            "\n",
            "Function       Idempotent   Image           Extended Image     i-regular\n",
            "-----------------------------------------------------------------\n",
            "(0, 0, 0)       | Yes | {0}           | {0}              | Yes\n",
            "(0, 1, 0)       | Yes | {0, 1}        | {0, 1, 2}        | No\n",
            "(0, 1, 1)       | Yes | {0, 1}        | {0, 1, 2}        | No\n",
            "(0, 1, 2)       | Yes | {0, 1, 2}     | {0, 1, 2}        | Yes\n",
            "(0, 2, 0)       | No         | {0, 2}        | {0, 2}           | Yes\n",
            "(0, 2, 2)       | Yes | {0, 2}        | {0, 2}           | Yes\n"
          ]
        }
      ],
      "source": [
        "from itertools import product\n",
        "\n",
        "def gcd(x, y):\n",
        "    \"\"\"Calculates the GCD of x and y, with gcd(0,0) = 0\"\"\"\n",
        "    while y != 0:\n",
        "        x, y = y, x % y\n",
        "    return abs(x) if x != 0 else 0\n",
        "\n",
        "def is_endomorphism(f, M):\n",
        "    \"\"\"Checks if f preserves the GCD operation\"\"\"\n",
        "    return all(f[gcd(x, y)] == gcd(f[x], f[y]) for x, y in product(M, repeat=2))\n",
        "\n",
        "def is_idempotent(f, M):\n",
        "    \"\"\"Checks if f ∘ f = f\"\"\"\n",
        "    return all(f[f[x]] == f[x] for x in M)\n",
        "\n",
        "def direct_image(f, M):\n",
        "    \"\"\"Calculates the direct image of f\"\"\"\n",
        "    return {f[x] for x in M}\n",
        "\n",
        "def extended_image(f, M):\n",
        "    \"\"\"Calculates the extended image closed under GCD\"\"\"\n",
        "    im_f = direct_image(f, M)\n",
        "    return {y for y in M if any(gcd(y, f[x]) in im_f for x in M)}\n",
        "\n",
        "def generate_valid_functions(M):\n",
        "    \"\"\"Generates all valid endomorphisms\"\"\"\n",
        "    functions = []\n",
        "    for f_vals in product(M, repeat=len(M)):\n",
        "        f = dict(enumerate(f_vals))\n",
        "        if f[0] == 0 and is_endomorphism(f, M):\n",
        "            functions.append(f)\n",
        "    return functions\n",
        "\n",
        "def analyze_functions(M):\n",
        "    \"\"\"Displays a complete analysis with 'i-regular'\"\"\"\n",
        "    print(\"\\nFunction\".ljust(15), \"Idempotent\".ljust(12), \"Image\".ljust(15), \"Extended Image\".ljust(18), \"i-regular\")\n",
        "    print(\"-\" * 65)\n",
        "\n",
        "    for f in generate_valid_functions(M):\n",
        "        f_tuple = tuple(f[i] for i in sorted(M))\n",
        "        im = direct_image(f, M)\n",
        "        im_ext = extended_image(f, M)\n",
        "\n",
        "        row = f\"{str(f_tuple).ljust(15)} | \"\n",
        "        row += f\"{'Yes' if is_idempotent(f, M) else 'No'.ljust(10)} | \"\n",
        "        row += f\"{str(im).ljust(13)} | \"\n",
        "        row += f\"{str(im_ext).ljust(16)} | \"\n",
        "\n",
        "        # Determine i-regularity\n",
        "        if im == im_ext:\n",
        "            row += \"Yes\"\n",
        "        else:\n",
        "            row += \"No\"\n",
        "\n",
        "        print(row)\n",
        "\n",
        "# Define n directly here (no input())\n",
        "n = 2  # Change this value as needed\n",
        "M = list(range(n + 1))\n",
        "analyze_functions(M)"
      ]
    },
    {
      "cell_type": "markdown",
      "source": [],
      "metadata": {
        "id": "NzW8O64TRzxm"
      }
    },
    {
      "cell_type": "markdown",
      "source": [
        "This code analyzes functions on the set M = {0, 1, ..., n} (where n=2 in the example) that preserve the GCD operation (called endomorphisms). Here's a breakdown:\n",
        "\n",
        "Key Components:\n",
        "GCD Calculation: The gcd(x, y) function computes the greatest common divisor, with gcd(0,0) = 0.\n",
        "\n",
        "Endomorphism Check: is_endomorphism(f, M) verifies if a function f preserves GCD, i.e., f(gcd(x, y)) = gcd(f(x), f(y)) for all x, y ∈ M.\n",
        "\n",
        "Idempotency Check: is_idempotent(f, M) checks if f ∘ f = f (i.e., applying f twice is the same as applying it once).\n",
        "\n",
        "Image Calculation:\n",
        "\n",
        "direct_image(f, M) gives the set of values f takes ({f(x) | x ∈ M}).\n",
        "\n",
        "extended_image(f, M) extends the image by including all elements y ∈ M such that gcd(y, f(x)) is in the direct image for some x.\n",
        "\n",
        "i-regularity: A function is i-regular if its direct image equals its extended image (closed under GCD).\n",
        "\n",
        "Algorithm:\n",
        "Generate Valid Functions: For M = {0, 1, ..., n}, generate all possible functions f: M → M where:\n",
        "\n",
        "f(0) = 0 (a common requirement for GCD-preserving functions).\n",
        "\n",
        "f is an endomorphism (preserves GCD).\n",
        "\n",
        "Analyze Functions: For each valid function, compute:\n",
        "\n",
        "Whether it is idempotent (f ∘ f = f).\n",
        "\n",
        "Its direct and extended images.\n",
        "\n",
        "Whether it is i-regular (direct image = extended image).\n",
        "\n",
        "Output Results: Display the results in a formatted table.\n",
        "\n",
        "Example Output (for n=2):\n",
        "The code prints a table with columns:\n",
        "\n",
        "Function: The function represented as a tuple (f(0), f(1), f(2)).\n",
        "\n",
        "Idempotent: Whether f is idempotent.\n",
        "\n",
        "Image: Direct image of f.\n",
        "\n",
        "Extended Image: Extended image under GCD.\n",
        "\n",
        "i-regular: Whether the function is i-regular.\n",
        "\n",
        "Key Observations:\n",
        "The code exhaustively checks all possible functions (brute-force) for small n.\n",
        "\n",
        "For larger n, this approach becomes computationally expensive (since there are (n+1)^(n+1) possible functions).\n",
        "\n"
      ],
      "metadata": {
        "id": "yiznYnCQ3fYw"
      }
    }
  ]
}