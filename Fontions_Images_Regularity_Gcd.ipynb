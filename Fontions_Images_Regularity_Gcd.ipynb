{
  "nbformat": 4,
  "nbformat_minor": 0,
  "metadata": {
    "colab": {
      "provenance": [],
      "authorship_tag": "ABX9TyPGNNKLZMgGi4y+m0ycScFv",
      "include_colab_link": true
    },
    "kernelspec": {
      "name": "python3",
      "display_name": "Python 3"
    },
    "language_info": {
      "name": "python"
    }
  },
  "cells": [
    {
      "cell_type": "markdown",
      "metadata": {
        "id": "view-in-github",
        "colab_type": "text"
      },
      "source": [
        "<a href=\"https://colab.research.google.com/github/Mamadou2025/Pseudo-Dual-Rickart-Code-Tester/blob/main/Fontions_Images_Regularity_Gcd.ipynb\" target=\"_parent\"><img src=\"https://colab.research.google.com/assets/colab-badge.svg\" alt=\"Open In Colab\"/></a>"
      ]
    },
    {
      "cell_type": "code",
      "execution_count": 5,
      "metadata": {
        "colab": {
          "base_uri": "https://localhost:8080/"
        },
        "id": "tRtqvjpn7qul",
        "outputId": "1f5488c3-4b74-4e62-f595-d58dcd5bff78"
      },
      "outputs": [
        {
          "output_type": "stream",
          "name": "stdout",
          "text": [
            "\n",
            "Function       Idempotent   Image           Extended Image     i-regular\n",
            "-----------------------------------------------------------------\n",
            "(0, 0, 0)       | Yes | {0}           | {0}              | Yes\n",
            "(0, 1, 0)       | Yes | {0, 1}        | {0, 1, 2}        | No\n",
            "(0, 1, 1)       | Yes | {0, 1}        | {0, 1, 2}        | No\n",
            "(0, 1, 2)       | Yes | {0, 1, 2}     | {0, 1, 2}        | Yes\n",
            "(0, 2, 0)       | No         | {0, 2}        | {0, 2}           | Yes\n",
            "(0, 2, 2)       | Yes | {0, 2}        | {0, 2}           | Yes\n"
          ]
        }
      ],
      "source": [
        "from itertools import product\n",
        "\n",
        "def gcd(x, y):\n",
        "    \"\"\"Calculates the GCD of x and y, with gcd(0,0) = 0\"\"\"\n",
        "    while y != 0:\n",
        "        x, y = y, x % y\n",
        "    return abs(x) if x != 0 else 0\n",
        "\n",
        "def is_endomorphism(f, M):\n",
        "    \"\"\"Checks if f preserves the GCD operation\"\"\"\n",
        "    return all(f[gcd(x, y)] == gcd(f[x], f[y]) for x, y in product(M, repeat=2))\n",
        "\n",
        "def is_idempotent(f, M):\n",
        "    \"\"\"Checks if f ∘ f = f\"\"\"\n",
        "    return all(f[f[x]] == f[x] for x in M)\n",
        "\n",
        "def direct_image(f, M):\n",
        "    \"\"\"Calculates the direct image of f\"\"\"\n",
        "    return {f[x] for x in M}\n",
        "\n",
        "def extended_image(f, M):\n",
        "    \"\"\"Calculates the extended image closed under GCD\"\"\"\n",
        "    im_f = direct_image(f, M)\n",
        "    return {y for y in M if any(gcd(y, f[x]) in im_f for x in M)}\n",
        "\n",
        "def generate_valid_functions(M):\n",
        "    \"\"\"Generates all valid endomorphisms\"\"\"\n",
        "    functions = []\n",
        "    for f_vals in product(M, repeat=len(M)):\n",
        "        f = dict(enumerate(f_vals))\n",
        "        if f[0] == 0 and is_endomorphism(f, M):\n",
        "            functions.append(f)\n",
        "    return functions\n",
        "\n",
        "def analyze_functions(M):\n",
        "    \"\"\"Displays a complete analysis with 'i-regular'\"\"\"\n",
        "    print(\"\\nFunction\".ljust(15), \"Idempotent\".ljust(12), \"Image\".ljust(15), \"Extended Image\".ljust(18), \"i-regular\")\n",
        "    print(\"-\" * 65)\n",
        "\n",
        "    for f in generate_valid_functions(M):\n",
        "        f_tuple = tuple(f[i] for i in sorted(M))\n",
        "        im = direct_image(f, M)\n",
        "        im_ext = extended_image(f, M)\n",
        "\n",
        "        row = f\"{str(f_tuple).ljust(15)} | \"\n",
        "        row += f\"{'Yes' if is_idempotent(f, M) else 'No'.ljust(10)} | \"\n",
        "        row += f\"{str(im).ljust(13)} | \"\n",
        "        row += f\"{str(im_ext).ljust(16)} | \"\n",
        "\n",
        "        # Determine i-regularity\n",
        "        if im == im_ext:\n",
        "            row += \"Yes\"\n",
        "        else:\n",
        "            row += \"No\"\n",
        "\n",
        "        print(row)\n",
        "\n",
        "# Define n directly here (no input())\n",
        "n = 2  # Change this value as needed\n",
        "M = list(range(n + 1))\n",
        "analyze_functions(M)"
      ]
    },
    {
      "cell_type": "markdown",
      "source": [
        "\n",
        "\n",
        "HOW TO USE THIS CODE\n",
        "\n",
        "Here's how you could proceed with this code. You can change the value of the integer n and then click the Run button. This button is located at the beginning of the code, in the top left corner, in the form of a white triangle in a black circle. For n=2, here's the captured output:\n",
        "\n",
        "![ddd.PNG](data:image/png;base64,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)"
      ],
      "metadata": {
        "id": "30alD6u1cH1M"
      }
    },
    {
      "cell_type": "markdown",
      "source": [
        "This code analyzes functions on the set M = {0, 1, ..., n} (where n=2 in the example) that preserve the GCD operation (called endomorphisms). Here's a breakdown:\n",
        "\n",
        "Key Components:\n",
        "GCD Calculation: The gcd(x, y) function computes the greatest common divisor, with gcd(0,0) = 0.\n",
        "\n",
        "Endomorphism Check: is_endomorphism(f, M) verifies if a function f preserves GCD, i.e., f(gcd(x, y)) = gcd(f(x), f(y)) for all x, y ∈ M.\n",
        "\n",
        "Idempotency Check: is_idempotent(f, M) checks if f ∘ f = f (i.e., applying f twice is the same as applying it once).\n",
        "\n",
        "Image Calculation:\n",
        "\n",
        "direct_image(f, M) gives the set of values f takes ({f(x) | x ∈ M}).\n",
        "\n",
        "extended_image(f, M) extends the image by including all elements y ∈ M such that gcd(y, f(x)) is in the direct image for some x.\n",
        "\n",
        "i-regularity: A function is i-regular if its direct image equals its extended image (closed under GCD).\n",
        "\n",
        "Algorithm:\n",
        "Generate Valid Functions: For M = {0, 1, ..., n}, generate all possible functions f: M → M where:\n",
        "\n",
        "f(0) = 0 (a common requirement for GCD-preserving functions).\n",
        "\n",
        "f is an endomorphism (preserves GCD).\n",
        "\n",
        "Analyze Functions: For each valid function, compute:\n",
        "\n",
        "Whether it is idempotent (f ∘ f = f).\n",
        "\n",
        "Its direct and extended images.\n",
        "\n",
        "Whether it is i-regular (direct image = extended image).\n",
        "\n",
        "Output Results: Display the results in a formatted table.\n",
        "\n",
        "Example Output (for n=2):\n",
        "The code prints a table with columns:\n",
        "\n",
        "Function: The function represented as a tuple (f(0), f(1), f(2)).\n",
        "\n",
        "Idempotent: Whether f is idempotent.\n",
        "\n",
        "Image: Direct image of f.\n",
        "\n",
        "Extended Image: Extended image under GCD.\n",
        "\n",
        "i-regular: Whether the function is i-regular.\n",
        "\n",
        "Key Observations:\n",
        "The code exhaustively checks all possible functions (brute-force) for small n.\n",
        "\n",
        "For larger n, this approach becomes computationally expensive (since there are (n+1)^(n+1) possible functions).\n",
        "\n"
      ],
      "metadata": {
        "id": "yiznYnCQ3fYw"
      }
    }
  ]
}