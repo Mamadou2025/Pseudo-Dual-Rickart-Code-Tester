{
  "nbformat": 4,
  "nbformat_minor": 0,
  "metadata": {
    "colab": {
      "provenance": [],
      "authorship_tag": "ABX9TyMYyTHKx63sBqj3k0r7poOc",
      "include_colab_link": true
    },
    "kernelspec": {
      "name": "python3",
      "display_name": "Python 3"
    },
    "language_info": {
      "name": "python"
    }
  },
  "cells": [
    {
      "cell_type": "markdown",
      "metadata": {
        "id": "view-in-github",
        "colab_type": "text"
      },
      "source": [
        "<a href=\"https://colab.research.google.com/github/Mamadou2025/Pseudo-Dual-Rickart-Code-Tester/blob/main/Fontions_Images_Regularity_Gcd.ipynb\" target=\"_parent\"><img src=\"https://colab.research.google.com/assets/colab-badge.svg\" alt=\"Open In Colab\"/></a>"
      ]
    },
    {
      "cell_type": "code",
      "execution_count": null,
      "metadata": {
        "colab": {
          "base_uri": "https://localhost:8080/"
        },
        "id": "tRtqvjpn7qul",
        "outputId": "0f863953-f1e7-4001-9d6d-edbdae01d104"
      },
      "outputs": [
        {
          "output_type": "stream",
          "name": "stdout",
          "text": [
            "\n",
            "Function       Idempotent   Image           Extended Image     i-regular\n",
            "-----------------------------------------------------------------\n",
            "(0, 0, 0)       | Yes | {0}           | {0}              | Yes\n",
            "(0, 1, 0)       | Yes | {0, 1}        | {0, 1, 2}        | No\n",
            "(0, 1, 1)       | Yes | {0, 1}        | {0, 1, 2}        | No\n",
            "(0, 1, 2)       | Yes | {0, 1, 2}     | {0, 1, 2}        | Yes\n",
            "(0, 2, 0)       | No         | {0, 2}        | {0, 2}           | Yes\n",
            "(0, 2, 2)       | Yes | {0, 2}        | {0, 2}           | Yes\n"
          ]
        }
      ],
      "source": [
        "from itertools import product\n",
        "\n",
        "def gcd(x, y):\n",
        "    \"\"\"Calculates the GCD of x and y, with gcd(0,0) = 0\"\"\"\n",
        "    while y != 0:\n",
        "        x, y = y, x % y\n",
        "    return abs(x) if x != 0 else 0\n",
        "\n",
        "def is_endomorphism(f, M):\n",
        "    \"\"\"Checks if f preserves the GCD operation\"\"\"\n",
        "    return all(f[gcd(x, y)] == gcd(f[x], f[y]) for x, y in product(M, repeat=2))\n",
        "\n",
        "def is_idempotent(f, M):\n",
        "    \"\"\"Checks if f ∘ f = f\"\"\"\n",
        "    return all(f[f[x]] == f[x] for x in M)\n",
        "\n",
        "def direct_image(f, M):\n",
        "    \"\"\"Calculates the direct image of f\"\"\"\n",
        "    return {f[x] for x in M}\n",
        "\n",
        "def extended_image(f, M):\n",
        "    \"\"\"Calculates the extended image closed under GCD\"\"\"\n",
        "    im_f = direct_image(f, M)\n",
        "    return {y for y in M if any(gcd(y, f[x]) in im_f for x in M)}\n",
        "\n",
        "def generate_valid_functions(M):\n",
        "    \"\"\"Generates all valid endomorphisms\"\"\"\n",
        "    functions = []\n",
        "    for f_vals in product(M, repeat=len(M)):\n",
        "        f = dict(enumerate(f_vals))\n",
        "        if f[0] == 0 and is_endomorphism(f, M):\n",
        "            functions.append(f)\n",
        "    return functions\n",
        "\n",
        "def analyze_functions(M):\n",
        "    \"\"\"Displays a complete analysis with 'i-regular'\"\"\"\n",
        "    print(\"\\nFunction\".ljust(15), \"Idempotent\".ljust(12), \"Image\".ljust(15), \"Extended Image\".ljust(18), \"i-regular\")\n",
        "    print(\"-\" * 65)\n",
        "\n",
        "    for f in generate_valid_functions(M):\n",
        "        f_tuple = tuple(f[i] for i in sorted(M))\n",
        "        im = direct_image(f, M)\n",
        "        im_ext = extended_image(f, M)\n",
        "\n",
        "        row = f\"{str(f_tuple).ljust(15)} | \"\n",
        "        row += f\"{'Yes' if is_idempotent(f, M) else 'No'.ljust(10)} | \"\n",
        "        row += f\"{str(im).ljust(13)} | \"\n",
        "        row += f\"{str(im_ext).ljust(16)} | \"\n",
        "\n",
        "        # Determine i-regularity\n",
        "        if im == im_ext:\n",
        "            row += \"Yes\"\n",
        "        else:\n",
        "            row += \"No\"\n",
        "\n",
        "        print(row)\n",
        "\n",
        "# Define n directly here (no input())\n",
        "n = 2  # Change this value as needed\n",
        "M = list(range(n + 1))\n",
        "analyze_functions(M)"
      ]
    }
  ]
}