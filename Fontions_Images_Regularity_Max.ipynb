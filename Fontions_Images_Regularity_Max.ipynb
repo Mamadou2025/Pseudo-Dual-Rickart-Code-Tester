{
  "nbformat": 4,
  "nbformat_minor": 0,
  "metadata": {
    "colab": {
      "provenance": [],
      "authorship_tag": "ABX9TyPR8Gvoa3am+4jPE7yuiNZX",
      "include_colab_link": true
    },
    "kernelspec": {
      "name": "python3",
      "display_name": "Python 3"
    },
    "language_info": {
      "name": "python"
    }
  },
  "cells": [
    {
      "cell_type": "markdown",
      "metadata": {
        "id": "view-in-github",
        "colab_type": "text"
      },
      "source": [
        "<a href=\"https://colab.research.google.com/github/Mamadou2025/Pseudo-Dual-Rickart-Code-Tester/blob/main/Fontions_Images_Regularity_Max.ipynb\" target=\"_parent\"><img src=\"https://colab.research.google.com/assets/colab-badge.svg\" alt=\"Open In Colab\"/></a>"
      ]
    },
    {
      "cell_type": "code",
      "execution_count": null,
      "metadata": {
        "id": "nkxUGbQd9I21"
      },
      "outputs": [],
      "source": [
        "from itertools import product\n",
        "\n",
        "def is_endomorphism(f, M):\n",
        "    \"\"\"Check if f preserves the max operation of the join-semilattice.\"\"\"\n",
        "    return all(f[max(x, y)] == max(f[x], f[y]) for x, y in product(M, repeat=2))\n",
        "\n",
        "def direct_image(f, M):\n",
        "    \"\"\"Compute the direct image of f.\"\"\"\n",
        "    return {f[x] for x in M}\n",
        "\n",
        "def extended_image(f, M):\n",
        "    \"\"\"Compute the extended image via max closure.\"\"\"\n",
        "    im_f = direct_image(f, M)\n",
        "    return {y for y in M if any(max(y, f[x]) in im_f for x in M)}\n",
        "\n",
        "def generate_endomorphisms(n):\n",
        "    \"\"\"Generate all endomorphism functions for M = {0, 1, ..., n}.\"\"\"\n",
        "    M = list(range(n + 1))\n",
        "    results = []\n",
        "\n",
        "    for f_vals in product(M, repeat=len(M)):\n",
        "        f = dict(enumerate(f_vals))\n",
        "        if f[0] == 0 and is_endomorphism(f, M):\n",
        "            im_f = direct_image(f, M)\n",
        "            ext_im = extended_image(f, M)\n",
        "            results.append({\n",
        "                'function': f_vals,\n",
        "                'image': im_f,\n",
        "                'extended_image': ext_im,\n",
        "                'i-regular': im_f == ext_im\n",
        "            })\n",
        "\n",
        "    return results\n",
        "\n",
        "def display_results(n):\n",
        "    \"\"\"Display formatted analysis results.\"\"\"\n",
        "    results = generate_endomorphisms(n)\n",
        "    M = list(range(n + 1))\n",
        "\n",
        "    print(f\"\\nAnalysis for M = {M} (n = {n})\")\n",
        "    print(\"{:<15} | {:<12} | {:<16} | {}\".format(\n",
        "        \"Function\", \"Image\", \"Extended Image\", \"i-regular\"))\n",
        "    print(\"-\" * 52)\n",
        "\n",
        "    for res in results:\n",
        "        f_str = str(res['function']).ljust(15)\n",
        "        im_str = str(res['image']).ljust(12)\n",
        "        ext_im_str = str(res['extended_image']).ljust(16)\n",
        "        ireg_str = \"Yes\" if res['i-regular'] else \"No\"\n",
        "        print(f\"{f_str} | {im_str} | {ext_im_str} | {ireg_str}\")\n",
        "\n",
        "# Example usage\n",
        "display_results(2)  # Analyzing with n=2"
      ]
    }
  ]
}