{
  "nbformat": 4,
  "nbformat_minor": 0,
  "metadata": {
    "colab": {
      "provenance": [],
      "authorship_tag": "ABX9TyNxRHgvZPbKuim/vGJZTkME",
      "include_colab_link": true
    },
    "kernelspec": {
      "name": "python3",
      "display_name": "Python 3"
    },
    "language_info": {
      "name": "python"
    }
  },
  "cells": [
    {
      "cell_type": "markdown",
      "metadata": {
        "id": "view-in-github",
        "colab_type": "text"
      },
      "source": [
        "<a href=\"https://colab.research.google.com/github/Mamadou2025/Pseudo-Dual-Rickart-Code-Tester/blob/main/Pseudo_dual_Rickart_Gcd_Example.ipynb\" target=\"_parent\"><img src=\"https://colab.research.google.com/assets/colab-badge.svg\" alt=\"Open In Colab\"/></a>"
      ]
    },
    {
      "cell_type": "code",
      "execution_count": null,
      "metadata": {
        "id": "rkvMflHPgqsK"
      },
      "outputs": [],
      "source": [
        "from itertools import product\n",
        "\n",
        "def gcd(x, y):\n",
        "    if x == 0 and y == 0:\n",
        "        return 0\n",
        "    while y != 0:\n",
        "        x, y = y, x % y\n",
        "    return abs(x)\n",
        "\n",
        "\n",
        "\n",
        "def is_endomorphism(f, M):\n",
        "    for x, y in product(M, repeat=2):\n",
        "        if f[gcd(x, y)] != gcd(f[x], f[y]):\n",
        "            return False\n",
        "    return True\n",
        "\n",
        "def is_idempotent(f, M):\n",
        "    for x in M:\n",
        "        if f[f[x]] != f[x]:\n",
        "            return False\n",
        "    return True\n",
        "\n",
        "def extended_image(f, M):\n",
        "    Im_M_f = set()\n",
        "    for y in M:\n",
        "        for x1 in M:\n",
        "            for x2 in M:\n",
        "                if gcd(y, f[x1]) == f[x2]:\n",
        "                    Im_M_f.add(y)\n",
        "                    break\n",
        "    return Im_M_f\n",
        "\n",
        "\n",
        "\n",
        "def all_functions(n):\n",
        "    M = set(range(n + 1))\n",
        "    S = []\n",
        "    idempotents = []\n",
        "\n",
        "    # Generate and store all valid endomorphisms\n",
        "    for f_vals in product(range(n + 1), repeat=n + 1):\n",
        "        f = {i: f_vals[i] for i in range(n + 1)}\n",
        "        if is_endomorphism(f, M) and f[0] == 0:\n",
        "            S.append(f)\n",
        "            if is_idempotent(f, M):\n",
        "                idempotents.append(f)\n",
        "\n",
        "    # Check if M is Pseudo Dual Rickart type 2\n",
        "    pseudo_dual_type_2 = True\n",
        "    for f_i in S:\n",
        "        im_f_i = {f_i[x] for x in M}\n",
        "        found_idempotent = False\n",
        "        for f_j in idempotents:\n",
        "            if im_f_i == {f_j[x] for x in M}:\n",
        "                found_idempotent = True\n",
        "                break\n",
        "        if not found_idempotent:\n",
        "            pseudo_dual_type_2 = False\n",
        "            break\n",
        "\n",
        "    # Conclusion about M being Pseudo Dual Rickart type 2\n",
        "    if pseudo_dual_type_2:\n",
        "        print(\"M is Pseudo Dual Rickart of type 2.\")\n",
        "\n",
        "        # Check if M is Pseudo Dual Rickart type 1\n",
        "        pseudo_dual_type_1 = False\n",
        "        for f_i in S:\n",
        "            im_f_i = {f_i[x] for x in M}\n",
        "            Im_M_f_i = extended_image(f_i, M)\n",
        "            if im_f_i != Im_M_f_i:\n",
        "                pseudo_dual_type_1 = True\n",
        "                break\n",
        "\n",
        "        if pseudo_dual_type_1:\n",
        "            print(\"M is Pseudo Dual Rickart of type 1.\")\n",
        "        else:\n",
        "            print(\"M is not Pseudo Dual Rickart of type 1.\")\n",
        "    else:\n",
        "        print(\"M is not Pseudo Dual Rickart of type 2.\")\n",
        "\n",
        "\n",
        "\n",
        "# Using the generalized code\n",
        "n = 4  # You can change the value of n here\n",
        "all_functions(n)\n",
        ""
      ]
    }
  ]
}