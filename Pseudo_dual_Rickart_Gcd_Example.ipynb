{
  "nbformat": 4,
  "nbformat_minor": 0,
  "metadata": {
    "colab": {
      "provenance": [],
      "authorship_tag": "ABX9TyNzryAZ8maur1M75fxk42H7",
      "include_colab_link": true
    },
    "kernelspec": {
      "name": "python3",
      "display_name": "Python 3"
    },
    "language_info": {
      "name": "python"
    }
  },
  "cells": [
    {
      "cell_type": "markdown",
      "metadata": {
        "id": "view-in-github",
        "colab_type": "text"
      },
      "source": [
        "<a href=\"https://colab.research.google.com/github/Mamadou2025/Pseudo-Dual-Rickart-Code-Tester/blob/main/Pseudo_dual_Rickart_Gcd_Example.ipynb\" target=\"_parent\"><img src=\"https://colab.research.google.com/assets/colab-badge.svg\" alt=\"Open In Colab\"/></a>"
      ]
    },
    {
      "cell_type": "code",
      "execution_count": 1,
      "metadata": {
        "id": "rkvMflHPgqsK",
        "outputId": "7276071e-60c7-461f-a180-655900f72e46",
        "colab": {
          "base_uri": "https://localhost:8080/"
        }
      },
      "outputs": [
        {
          "output_type": "stream",
          "name": "stdout",
          "text": [
            "M is Pseudo Dual Rickart of type 2.\n",
            "M is Pseudo Dual Rickart of type 1.\n"
          ]
        }
      ],
      "source": [
        "from itertools import product\n",
        "\n",
        "def gcd(x, y):\n",
        "    if x == 0 and y == 0:\n",
        "        return 0\n",
        "    while y != 0:\n",
        "        x, y = y, x % y\n",
        "    return abs(x)\n",
        "\n",
        "\n",
        "\n",
        "def is_endomorphism(f, M):\n",
        "    for x, y in product(M, repeat=2):\n",
        "        if f[gcd(x, y)] != gcd(f[x], f[y]):\n",
        "            return False\n",
        "    return True\n",
        "\n",
        "def is_idempotent(f, M):\n",
        "    for x in M:\n",
        "        if f[f[x]] != f[x]:\n",
        "            return False\n",
        "    return True\n",
        "\n",
        "def extended_image(f, M):\n",
        "    Im_M_f = set()\n",
        "    for y in M:\n",
        "        for x1 in M:\n",
        "            for x2 in M:\n",
        "                if gcd(y, f[x1]) == f[x2]:\n",
        "                    Im_M_f.add(y)\n",
        "                    break\n",
        "    return Im_M_f\n",
        "\n",
        "\n",
        "\n",
        "def all_functions(n):\n",
        "    M = set(range(n + 1))\n",
        "    S = []\n",
        "    idempotents = []\n",
        "\n",
        "    # Generate and store all valid endomorphisms\n",
        "    for f_vals in product(range(n + 1), repeat=n + 1):\n",
        "        f = {i: f_vals[i] for i in range(n + 1)}\n",
        "        if is_endomorphism(f, M) and f[0] == 0:\n",
        "            S.append(f)\n",
        "            if is_idempotent(f, M):\n",
        "                idempotents.append(f)\n",
        "\n",
        "    # Check if M is Pseudo Dual Rickart type 2\n",
        "    pseudo_dual_type_2 = True\n",
        "    for f_i in S:\n",
        "        im_f_i = {f_i[x] for x in M}\n",
        "        found_idempotent = False\n",
        "        for f_j in idempotents:\n",
        "            if im_f_i == {f_j[x] for x in M}:\n",
        "                found_idempotent = True\n",
        "                break\n",
        "        if not found_idempotent:\n",
        "            pseudo_dual_type_2 = False\n",
        "            break\n",
        "\n",
        "    # Conclusion about M being Pseudo Dual Rickart type 2\n",
        "    if pseudo_dual_type_2:\n",
        "        print(\"M is Pseudo Dual Rickart of type 2.\")\n",
        "\n",
        "        # Check if M is Pseudo Dual Rickart type 1\n",
        "        pseudo_dual_type_1 = False\n",
        "        for f_i in S:\n",
        "            im_f_i = {f_i[x] for x in M}\n",
        "            Im_M_f_i = extended_image(f_i, M)\n",
        "            if im_f_i != Im_M_f_i:\n",
        "                pseudo_dual_type_1 = True\n",
        "                break\n",
        "\n",
        "        if pseudo_dual_type_1:\n",
        "            print(\"M is Pseudo Dual Rickart of type 1.\")\n",
        "        else:\n",
        "            print(\"M is not Pseudo Dual Rickart of type 1.\")\n",
        "    else:\n",
        "        print(\"M is not Pseudo Dual Rickart of type 2.\")\n",
        "\n",
        "\n",
        "\n",
        "# Using the generalized code\n",
        "n = 2  # You can change the value of n here\n",
        "all_functions(n)\n"
      ]
    },
    {
      "cell_type": "markdown",
      "source": [
        "\n",
        "HOW TO USE THE CODE\n",
        "Choose your value of n as in the image\n",
        "![ddd.PNG](data:image/png;base64,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)\n",
        "This code analyses and verifies whether or not given examples of semimodules are pseudo dual Rickart semimodules.\n",
        "\n",
        "This Python implementation is designed to test the dual weak Rickart property for semimodules over natural numbers using the GCD operation. The script leverages the combinatorial functionality of the itertools library to analyze all possible functions on the finite set M = {0, 1, ..., n}, where n is a user-defined input.\n",
        "\n",
        "Functional Highlights:\n",
        "1. Endomorphism Validation: Functions f: M → M are filtered based on two criteria:\n",
        "   - f(0) = 0, ensuring that zero maps to zero.\n",
        "   - Preservation of the GCD operation: f(gcd(x, y)) = gcd(f(x), f(y)), for all x, y ∈ M.\n",
        "\n",
        "2. Idempotency Check: The function checks if f(f(x)) = f(x), identifying idempotent functions within the set of valid endomorphisms.\n",
        "\n",
        "3. Extended Image Calculation: The algorithm calculates the extended image of a function f using the logic that a value y ∈ M belongs to the extended image if there exists x1, x2 ∈ M such that gcd(y, f(x1)) = f(x2).\n",
        "\n",
        "4. Classification of Semimodules:\n",
        "   - Pseudo Dual Rickart (Type 2): Determines if every function f has an associated idempotent function g with the same direct image.\n",
        "   - Pseudo Dual Rickart (Type 1): Examines whether the direct image of f matches its extended image.\n",
        "\n",
        "5. Performance: The runtime of the program depends exponentially on n, as all possible functions are generated and verified. Computational resources provided by Python's runtime environment are critical.\n",
        "\n"
      ],
      "metadata": {
        "id": "LTT5DGnu9QcS"
      }
    }
  ]
}