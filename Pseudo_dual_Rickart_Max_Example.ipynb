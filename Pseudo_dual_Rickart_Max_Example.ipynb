{
  "nbformat": 4,
  "nbformat_minor": 0,
  "metadata": {
    "colab": {
      "provenance": [],
      "authorship_tag": "ABX9TyO3QIaie5CXjGV+/rXSAzr1",
      "include_colab_link": true
    },
    "kernelspec": {
      "name": "python3",
      "display_name": "Python 3"
    },
    "language_info": {
      "name": "python"
    }
  },
  "cells": [
    {
      "cell_type": "markdown",
      "metadata": {
        "id": "view-in-github",
        "colab_type": "text"
      },
      "source": [
        "<a href=\"https://colab.research.google.com/github/Mamadou2025/Pseudo-Dual-Rickart-Code-Tester/blob/main/Pseudo_dual_Rickart_Max_Example.ipynb\" target=\"_parent\"><img src=\"https://colab.research.google.com/assets/colab-badge.svg\" alt=\"Open In Colab\"/></a>"
      ]
    },
    {
      "cell_type": "code",
      "execution_count": 3,
      "metadata": {
        "id": "bmq9UUGriHmJ",
        "colab": {
          "base_uri": "https://localhost:8080/"
        },
        "outputId": "69dbf915-8678-4edd-f86b-2367ef6b27fa"
      },
      "outputs": [
        {
          "output_type": "stream",
          "name": "stdout",
          "text": [
            " M is Pseudo Dual Rickart of type 2.\n",
            " M is also Pseudo Dual Rickart of type 1.\n"
          ]
        }
      ],
      "source": [
        "from itertools import product\n",
        "\n",
        "def gcd(x, y):\n",
        "    if x == 0 and y == 0:\n",
        "        return 0\n",
        "    while y != 0:\n",
        "        x, y = y, x % y\n",
        "    return abs(x)\n",
        "\n",
        "\n",
        "\n",
        "def is_endomorphism(f, M):\n",
        "    for x, y in product(M, repeat=2):\n",
        "        if f[max(x, y)] != max(f[x], f[y]):\n",
        "            return False\n",
        "    return True\n",
        "\n",
        "def is_idempotent(f, M):\n",
        "    for x in M:\n",
        "        if f[f[x]] != f[x]:\n",
        "            return False\n",
        "    return True\n",
        "\n",
        "def extended_image(f, M):\n",
        "    Im_M_f = set()\n",
        "    for y in M:\n",
        "        for x1 in M:\n",
        "            for x2 in M:\n",
        "                if max(y, f[x1]) == f[x2]:\n",
        "                    Im_M_f.add(y)\n",
        "                    break\n",
        "    return Im_M_f\n",
        "\n",
        "\n",
        "\n",
        "def all_functions(n):\n",
        "    M = set(range(n + 1))\n",
        "    S = []\n",
        "    idempotents = []\n",
        "\n",
        "    # Generate all valid endomorphisms\n",
        "    for f_vals in product(range(n + 1), repeat=n + 1):\n",
        "        f = {i: f_vals[i] for i in range(n + 1)}\n",
        "        if is_endomorphism(f, M) and f[0] == 0:\n",
        "            S.append(f)\n",
        "            if is_idempotent(f, M):\n",
        "                idempotents.append(f)\n",
        "\n",
        "    # Check if M is pseudo dual Rickart type 2\n",
        "    pseudo_dual_type_2 = True\n",
        "    for f_i in S:\n",
        "        im_f_i = {f_i[x] for x in M}\n",
        "        found_idempotent = False\n",
        "        for f_j in idempotents:\n",
        "            if im_f_i == {f_j[x] for x in M}:\n",
        "                found_idempotent = True\n",
        "                break\n",
        "        if not found_idempotent:\n",
        "            pseudo_dual_type_2 = False\n",
        "            break\n",
        "\n",
        "    # Display results\n",
        "    if pseudo_dual_type_2:\n",
        "        print(\" M is Pseudo Dual Rickart of type 2.\")\n",
        "\n",
        "        # Check if M is also type 1\n",
        "        pseudo_dual_type_1 = False\n",
        "        for f_i in S:\n",
        "            im_f_i = {f_i[x] for x in M}\n",
        "            Im_M_f_i = extended_image(f_i, M)\n",
        "            if im_f_i != Im_M_f_i:\n",
        "                pseudo_dual_type_1 = True\n",
        "                break\n",
        "\n",
        "        if pseudo_dual_type_1:\n",
        "            print(\" M is also Pseudo Dual Rickart of type 1.\")\n",
        "        else:\n",
        "            print(\" M is not Pseudo Dual Rickart of type 1.\")\n",
        "    else:\n",
        "        print(\" M is not Pseudo Dual Rickart of type 2.\")\n",
        "\n",
        "\n",
        "\n",
        "# Value of n (modify as needed)\n",
        "n = 2\n",
        "all_functions(n)\n"
      ]
    },
    {
      "cell_type": "markdown",
      "source": [
        "HOW TO USE THE CODE\n",
        "Choose your value of n and press the Run button. Result as in the next image\n",
        "\n",
        "![ddd.PNG](data:image/png;base64,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)\n"
      ],
      "metadata": {
        "id": "GCkn5lT_qb7j"
      }
    },
    {
      "cell_type": "markdown",
      "source": [
        "This code analyses and verifies whether or not given examples of semimodules are pseudo dual Rickart semimodules.\n",
        "\n",
        "This Python implementation is designed to test the dual weak Rickart property for semimodules over natural numbers using the MAX operation. The script leverages the combinatorial functionality of the itertools library to analyze all possible functions on the finite set M = {0, 1, ..., n}, where n is a user-defined input.\n",
        "\n",
        "Functional Highlights:\n",
        "1. Endomorphism Validation: Functions f: M → M are filtered based on two criteria:\n",
        "   - f(0) = 0, ensuring that zero maps to zero.\n",
        "   - Preservation of the MAX operation: f(max(x, y)) = max(f(x), f(y)), for all x, y ∈ M.\n",
        "\n",
        "2. Idempotency Check: The function checks if f(f(x)) = f(x), identifying idempotent functions within the set of valid endomorphisms.\n",
        "\n",
        "3. Extended Image Calculation: The algorithm calculates the extended image of a function f using the logic that a value y ∈ M belongs to the extended image if there exists x1, x2 ∈ M such that max(y, f(x1)) = f(x2).\n",
        "\n",
        "4. Classification of Semimodules:\n",
        "   - Pseudo Dual Rickart (Type 2): Determines if every function f has an associated idempotent function g with the same direct image.\n",
        "   - Pseudo Dual Rickart (Type 1): Examines whether the direct image of f matches its extended image.\n",
        "\n",
        "5. Performance: The runtime of the program depends exponentially on n, as all possible functions are generated and verified. Computational resources provided by Python's runtime environment are critical.\n",
        "\n"
      ],
      "metadata": {
        "id": "JzgQNbjw_ZMB"
      }
    }
  ]
}