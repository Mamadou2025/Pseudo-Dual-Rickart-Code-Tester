{
  "nbformat": 4,
  "nbformat_minor": 0,
  "metadata": {
    "colab": {
      "provenance": [],
      "authorship_tag": "ABX9TyMmyFlh9vqQt+UVSp9KWyaM",
      "include_colab_link": true
    },
    "kernelspec": {
      "name": "python3",
      "display_name": "Python 3"
    },
    "language_info": {
      "name": "python"
    }
  },
  "cells": [
    {
      "cell_type": "markdown",
      "metadata": {
        "id": "view-in-github",
        "colab_type": "text"
      },
      "source": [
        "<a href=\"https://colab.research.google.com/github/Mamadou2025/Pseudo-Dual-Rickart-Code-Tester/blob/main/Pseudo_dual_Rickart_Max_Example.ipynb\" target=\"_parent\"><img src=\"https://colab.research.google.com/assets/colab-badge.svg\" alt=\"Open In Colab\"/></a>"
      ]
    },
    {
      "cell_type": "code",
      "execution_count": null,
      "metadata": {
        "id": "bmq9UUGriHmJ"
      },
      "outputs": [],
      "source": [
        "from itertools import product\n",
        "\n",
        "def gcd(x, y):\n",
        "    if x == 0 and y == 0:\n",
        "        return 0\n",
        "    while y != 0:\n",
        "        x, y = y, x % y\n",
        "    return abs(x)\n",
        "\n",
        "\n",
        "\n",
        "def is_endomorphism(f, M):\n",
        "    for x, y in product(M, repeat=2):\n",
        "        if f[max(x, y)] != max(f[x], f[y]):\n",
        "            return False\n",
        "    return True\n",
        "\n",
        "def is_idempotent(f, M):\n",
        "    for x in M:\n",
        "        if f[f[x]] != f[x]:\n",
        "            return False\n",
        "    return True\n",
        "\n",
        "def extended_image(f, M):\n",
        "    Im_M_f = set()\n",
        "    for y in M:\n",
        "        for x1 in M:\n",
        "            for x2 in M:\n",
        "                if max(y, f[x1]) == f[x2]:\n",
        "                    Im_M_f.add(y)\n",
        "                    break\n",
        "    return Im_M_f\n",
        "\n",
        "\n",
        "\n",
        "def all_functions(n):\n",
        "    M = set(range(n + 1))\n",
        "    S = []\n",
        "    idempotents = []\n",
        "\n",
        "    # Generate all valid endomorphisms\n",
        "    for f_vals in product(range(n + 1), repeat=n + 1):\n",
        "        f = {i: f_vals[i] for i in range(n + 1)}\n",
        "        if is_endomorphism(f, M) and f[0] == 0:\n",
        "            S.append(f)\n",
        "            if is_idempotent(f, M):\n",
        "                idempotents.append(f)\n",
        "\n",
        "    # Check if M is pseudo dual Rickart type 2\n",
        "    pseudo_dual_type_2 = True\n",
        "    for f_i in S:\n",
        "        im_f_i = {f_i[x] for x in M}\n",
        "        found_idempotent = False\n",
        "        for f_j in idempotents:\n",
        "            if im_f_i == {f_j[x] for x in M}:\n",
        "                found_idempotent = True\n",
        "                break\n",
        "        if not found_idempotent:\n",
        "            pseudo_dual_type_2 = False\n",
        "            break\n",
        "\n",
        "    # Display results\n",
        "    if pseudo_dual_type_2:\n",
        "        print(\" M is Pseudo Dual Rickart of type 2.\")\n",
        "\n",
        "        # Check if M is also type 1\n",
        "        pseudo_dual_type_1 = False\n",
        "        for f_i in S:\n",
        "            im_f_i = {f_i[x] for x in M}\n",
        "            Im_M_f_i = extended_image(f_i, M)\n",
        "            if im_f_i != Im_M_f_i:\n",
        "                pseudo_dual_type_1 = True\n",
        "                break\n",
        "\n",
        "        if pseudo_dual_type_1:\n",
        "            print(\" M is also Pseudo Dual Rickart of type 1.\")\n",
        "        else:\n",
        "            print(\" M is not Pseudo Dual Rickart of type 1.\")\n",
        "    else:\n",
        "        print(\" M is not Pseudo Dual Rickart of type 2.\")\n",
        "\n",
        "\n",
        "\n",
        "# Value of n (modify as needed)\n",
        "n = 4\n",
        "all_functions(n)\n"
      ]
    },
    {
      "cell_type": "markdown",
      "source": [
        "HOW TO USE THE CODE\n",
        "Choose your value of n and press the Run button. Result as in the next image\n",
        "\n"
      ],
      "metadata": {
        "id": "GCkn5lT_qb7j"
      }
    },
    {
      "cell_type": "markdown",
      "source": [
        "This code analyses and verifies whether or not given examples of semimodules are pseudo dual Rickart semimodules.\n",
        "\n",
        "This Python implementation is designed to test the dual weak Rickart property for semimodules over natural numbers using the MAX operation. The script leverages the combinatorial functionality of the itertools library to analyze all possible functions on the finite set M = {0, 1, ..., n}, where n is a user-defined input.\n",
        "\n",
        "Functional Highlights:\n",
        "1. Endomorphism Validation: Functions f: M → M are filtered based on two criteria:\n",
        "   - f(0) = 0, ensuring that zero maps to zero.\n",
        "   - Preservation of the MAX operation: f(max(x, y)) = max(f(x), f(y)), for all x, y ∈ M.\n",
        "\n",
        "2. Idempotency Check: The function checks if f(f(x)) = f(x), identifying idempotent functions within the set of valid endomorphisms.\n",
        "\n",
        "3. Extended Image Calculation: The algorithm calculates the extended image of a function f using the logic that a value y ∈ M belongs to the extended image if there exists x1, x2 ∈ M such that max(y, f(x1)) = f(x2).\n",
        "\n",
        "4. Classification of Semimodules:\n",
        "   - Pseudo Dual Rickart (Type 2): Determines if every function f has an associated idempotent function g with the same direct image.\n",
        "   - Pseudo Dual Rickart (Type 1): Examines whether the direct image of f matches its extended image.\n",
        "\n",
        "5. Performance: The runtime of the program depends exponentially on n, as all possible functions are generated and verified. Computational resources provided by Python's runtime environment are critical.\n",
        "\n"
      ],
      "metadata": {
        "id": "JzgQNbjw_ZMB"
      }
    }
  ]
}